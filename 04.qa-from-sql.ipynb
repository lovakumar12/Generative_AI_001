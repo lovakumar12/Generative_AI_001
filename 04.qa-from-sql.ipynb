{
 "cells": [
  {
   "cell_type": "code",
   "execution_count": 1,
   "metadata": {},
   "outputs": [],
   "source": [
    "import os\n",
    "from dotenv import load_dotenv, find_dotenv\n",
    "_ = load_dotenv(find_dotenv())\n",
    "openai_api_key = os.environ[\"OPENAI_API_KEY\"]"
   ]
  },
  {
   "cell_type": "code",
   "execution_count": 2,
   "metadata": {},
   "outputs": [],
   "source": [
    "from langchain_openai import ChatOpenAI\n",
    "\n",
    "llm = ChatOpenAI(model=\"gpt-3.5-turbo-0125\")"
   ]
  },
  {
   "cell_type": "code",
   "execution_count": 3,
   "metadata": {},
   "outputs": [],
   "source": [
    "from langchain_community.utilities import SQLDatabase\n",
    "\n",
    "sqlite_db_path = \"data/street_tree_db.sqlite\"\n",
    "\n",
    "db = SQLDatabase.from_uri(f\"sqlite:///{sqlite_db_path}\")"
   ]
  },
  {
   "cell_type": "code",
   "execution_count": 4,
   "metadata": {},
   "outputs": [
    {
     "data": {
      "text/plain": [
       "'SELECT COUNT(DISTINCT \"qSpecies\") AS \"Total Species\"\\nFROM street_trees;'"
      ]
     },
     "execution_count": 4,
     "metadata": {},
     "output_type": "execute_result"
    }
   ],
   "source": [
    "from langchain.chains import create_sql_query_chain\n",
    "\n",
    "chain = create_sql_query_chain(llm, db)\n",
    "\n",
    "response = chain.invoke({\"question\": \"How many species of trees are in San Francisco?\"})\n",
    "\n",
    "response"
   ]
  },
  {
   "cell_type": "code",
   "execution_count": 5,
   "metadata": {},
   "outputs": [
    {
     "name": "stdout",
     "output_type": "stream",
     "text": [
      "You are a SQLite expert. Given an input question, first create a syntactically correct SQLite query to run, then look at the results of the query and return the answer to the input question.\n",
      "Unless the user specifies in the question a specific number of examples to obtain, query for at most 5 results using the LIMIT clause as per SQLite. You can order the results to return the most informative data in the database.\n",
      "Never query for all columns from a table. You must query only the columns that are needed to answer the question. Wrap each column name in double quotes (\") to denote them as delimited identifiers.\n",
      "Pay attention to use only the column names you can see in the tables below. Be careful to not query for columns that do not exist. Also, pay attention to which column is in which table.\n",
      "Pay attention to use date('now') function to get the current date, if the question involves \"today\".\n",
      "\n",
      "Use the following format:\n",
      "\n",
      "Question: Question here\n",
      "SQLQuery: SQL Query to run\n",
      "SQLResult: Result of the SQLQuery\n",
      "Answer: Final answer here\n",
      "\n",
      "Only use the following tables:\n",
      "\u001b[33;1m\u001b[1;3m{table_info}\u001b[0m\n",
      "\n",
      "Question: \u001b[33;1m\u001b[1;3m{input}\u001b[0m\n"
     ]
    }
   ],
   "source": [
    "chain.get_prompts()[0].pretty_print()"
   ]
  },
  {
   "cell_type": "code",
   "execution_count": 6,
   "metadata": {},
   "outputs": [
    {
     "data": {
      "text/plain": [
       "\"The species of trees present in San Francisco are as follows: \\n- Arbutus 'Marina' :: Hybrid Strawberry Tree\\n- Afrocarpus gracilior :: Fern Pine\\n- Thuja occidentalis 'Emerald' :: Emerald Arborvitae\\n- Magnolia grandiflora 'Little Gem' :: Little Gem Magnolia\\n- Platanus x hispanica :: Sycamore: London Plane\\n- Ulmus parvifolia :: Chinese Elm\\n- Leptospermum laevigatum :: Australian Tea Tree\\n- Olea europaea 'Fruitless' :: Fruitless Olive\\n- Ficus rubiginosa :: Port Jackson Fig\\n- Cycas revoluta :: Sago palm\\n- Lophostemon confertus :: Brisbane Box\\n- Podocarpus gracilor :: Fern Pine\\n- Eriobotrya deflexa :: Bronze Loquat\\n- Ligustrum lucidum :: Glossy Privet\\n- Syagrus romanzoffianum :: Queen Palm\\n- Ficus microcarpa nitida 'Green Gem' :: Indian Laurel Fig Tree 'Green Gem'\\n- Prunus cerasifera :: Cherry Plum\\n- Myoporum laetum :: Myoporum\\n- Tristanopsis laurina :: Swamp Myrtle\\n- Ginkgo biloba :: Maidenhair Tree\\n- Pyrus calleryana :: Ornamental Pear\\n- Morus alba 'Fruitless' :: Fruitless Mulberry\\n- Magnolia grandiflora :: Southern Magnolia\\n- Pittosporum undulatum :: Victorian Box\\n- Lyonothamnus floribundus subsp. asplenifolius :: Santa Cruz Ironwood\\n- Leptospermum scoparium :: New Zealand Tea Tree\\n- Acer rubrum :: Red Maple\\n- Carpinus betulus :: European Hornbeam\\n- Ilex aquifolium :: European Holly\\n- Lagunaria patersonii :: Primrose Tree\\n- Pinus radiata :: Monterey Pine\\n- Prunus laurocerasus :: English laurel\\n- Cercis occidentalis :: Western Redbud\\n- Prunus serrulata :: Ornamental Cherry\\n- Maytenus boaria :: Mayten\\n- Arbutus unedo :: Strawberry Tree\\n- Callistemon citrinus :: Lemon Bottlebrush\\n- Cordyline australis :: Dracena Palm\\n- Quercus suber :: Cork Oak\\n- Pseudotsuga menziesii :: Douglas Fir\\n- Quercus agrifolia :: Coast Live Oak\\n- Olea Majestic Beauty ::\\n- Platanus racemosa :: California Sycamore\\n- Metrosideros excelsa :: New Zealand Xmas Tree\\n- Quercus tomentella :: Island oak\\n- Olea europaea :: Olive Tree\\n- Quercus spp :: Oak\\n- Platanus occidentalis :: American sycamore\\n- Hakea suaveolens :: Sweet Hakea Tree\\n- Acacia melanoxylon :: Blackwood Acacia\\n- Ligustrum japonicum :: Japanese Privet\\n- Liquidambar styraciflua :: American Sweet Gum\\n- Prunus subhirtella 'autumnalis' :: Higan Cherry\\n- Acer palmatum :: Japanese Maple\\n- Juniperus chinensis :: Juniper\\n- Ficus retusa nitida :: Banyan Fig\\n- Acacia decurrens :: Acacia: Silver Wattle\\n- Cupressus macrocarpa :: Monterey Cypress\\n- Archontophoenix cunninghamiana :: King Palm\\n- Rhamnus alaternus :: Italian Buckthorn\\n- Schinus molle :: California Pepper\\n- Crataegus phaenopyrum :: Washington Hawthorn\\n- Elaeocarpus decipiens :: Japanese Blueberry Tree\\n- Aesculus x carnea :: Red Horse Chestnut\\n- Platanus x hispanica 'Columbia' :: Columbia Hybrid Plane Tree\\n- Eucalyptus camaldulensis :: River Red Gum\\n- Pinus pinea :: Italian Stone Pine\\n- Eucalyptus citriodora :: Lemon scented eucalyptus\\n- Schinus terebinthifolius :: Brazilian Pepper\\n- Magnolia grandiflora 'Saint Mary' :: Saint Mary Magnolia\\n- Magnolia spp :: Magnolia\\n- Phoenix dactylifera :: Date Palm\\n- Pyrus kawakamii :: Evergreen Pear\\n- Corymbia ficifolia :: Red Flowering Gum\\n- Acacia stenophylla :: Shoestring Acacia\\n- Eriobotrya japonica :: Edible Loquat\\n- Hymenosporum flavum :: Sweetshade\\n- Olea europaea 'Wilsonii' :: Wilson Olive Semi-fruitless\\n- Tilia cordata :: Littleleaf Linden\\n- Eucalyptus polyanthemos :: Silver Dollar Eucalyptus\\n- Melaleuca quinquenervia :: Cajeput\\n- Agonis flexuosa :: Peppermint Willow\\n- Koelreuteria paniculata :: Golden Rain Tree\\n- Yucca elephantipes :: Giant Yucca\\n- Populus nigra 'Italica' :: Lombardy Poplar\\n- Eucalyptus globulus :: Blue Gum\\n- Ficus microcarpa :: Chinese Banyan\\n- Acacia baileyana 'Purpurea' :: Purple-leaf Acacia\\n- Acer buergeranum :: Trident Maple\\n- Cinnamomum camphora :: Camphor Tree\\n- Howea belmoreana :: Belmore Sentry Palm\\n- Pinus canariensis :: Canary Island Pine\\n- Ceanothus 'Ray Hartman' :: California Lilac 'Ray Hartman'\\n- Butia catarinensis :: Butia\\n- Acacia spp :: Acacia Spp\\n- Jacaranda mimosifolia :: Jacaranda\\n- Eucalyptus nicholii :: Nichol's Willow-Leafed Peppermint\\n- Acer rubrum 'October Glory' :: Red October Glory Maple\\n- Umbellularia californica :: California Bay\\n- Melaleuca ericifolia :: Heath Melaleuca\\n- Prunus caroliniana :: Carolina Cherry Laurel\\n- Callistemon viminalis :: Weeping Bottlebrush\\n- Tristania conferta ::\\n- Magnolia champaca :: Champa\\n- Acer rubrum 'Armstrong' :: Armstrong Red Maple\\n- Pyrus calleryana 'Bradford' :: Ornamental Pear: Bradford\\n- Ulmus spp :: Elm Spp\\n- Photinia fraseri :: Photinia: Chinese photinia\\n- Tristaniopsis laurina 'Elegant' :: Small-leaf Tristania 'Elegant'\\n- Quercus virginiana :: Southern Live Oak\\n- Laurus nobilis :: Sweet Bay: Grecian Laurel\\n- Griselinia lucida :: Griselinia\\n- Dodonaea viscosa 'Purpurea' :: Purple Hopseed Bush\\n- Sequoia sempervirens :: Coast Redwood\\n- Ginkgo biloba 'Autumn Gold' :: Ginkgo: Autumn Gold\\n- Ulmus carpinifolia 'Frontier' :: Frontier Elm 'Frontier'\\n- Geijera parviflora :: Australian Willow\\n- Laurus x 'Saratoga' :: Hybrid Laurel\\n- Melaleuca styphelliodes :: Paperbark Tree\\n- Prunus serrulata 'Kwanzan' :: Kwanzan Flowering Cherry\\n- Acer japonicum :: Japanese Maple\\n- Araucaria heterophylla :: Norfolk Island Pine\\n- Washingtonia robusta :: Mexican Fan Palm\\n- Lagerstroemia indica :: Crape Myrtle\\n- Magnolia doltsopa :: Himalayan Magnolia\\n- Syzygium paniculatum :: Brush Cherry\\n- Pinus thunbergii :: Japanese Black Pine\\n- Cercis canadensis :: Eastern Redbud\\n- Eucalyptus Spp :: Eucalyptus\\n- Persea americana :: Avocado\\n- Pistacia chinensis :: Chinese Pistache\\n- Maytenus boaria 'Green Showers' :: Meyten Tree 'Green Showers'\\n- Magnolia grandiflora 'Russet' :: Russet Magnolia\\n- Prunus lyonii :: Catalina Cherry\\n- Aesculus x carnea 'Briotii' :: Ruby Horse Chestnut\\n- Magnolia grandiflora 'Majestic Beauty' :: Majestic Beauty Magnolia\\n- Prunus spp :: Almond Tree\\n- Nerium oleander :: Oleander\\n- Acacia baileyana :: Bailey's Acacia\\n- Grevillea robusta :: Silk Oak Tree\\n- Zelkova serrata :: Sawleaf Zelkova\\n- Fraxinus uhdei :: Shamel Ash: Evergreen Ash\""
      ]
     },
     "execution_count": 6,
     "metadata": {},
     "output_type": "execute_result"
    }
   ],
   "source": [
    "from operator import itemgetter\n",
    "\n",
    "from langchain_core.output_parsers import StrOutputParser\n",
    "from langchain_core.prompts import PromptTemplate\n",
    "from langchain_core.runnables import RunnablePassthrough\n",
    "from langchain_community.tools.sql_database.tool import QuerySQLDataBaseTool\n",
    "\n",
    "sqlite_db_path = \"data/street_tree_db.sqlite\"\n",
    "\n",
    "db = SQLDatabase.from_uri(f\"sqlite:///{sqlite_db_path}\")\n",
    "\n",
    "llm = ChatOpenAI(model=\"gpt-3.5-turbo-0125\")\n",
    "\n",
    "answer_prompt = PromptTemplate.from_template(\n",
    "    \"\"\"Given the following user question, \n",
    "    corresponding SQL query, and SQL result, \n",
    "    answer the user question.\n",
    "\n",
    "Question: {question}\n",
    "SQL Query: {query}\n",
    "SQL Result: {result}\n",
    "Answer: \"\"\"\n",
    ")\n",
    "\n",
    "write_query = create_sql_query_chain(llm, db)\n",
    "\n",
    "execute_query = QuerySQLDataBaseTool(db=db)\n",
    "\n",
    "#chain = write_query | execute_query\n",
    "\n",
    "#chain.invoke({\"question\": \"List the species of trees that are present in San Francisco\"})\n",
    "\n",
    "chain = (\n",
    "    RunnablePassthrough.assign(query=write_query).assign(\n",
    "        result=itemgetter(\"query\") | execute_query\n",
    "    )\n",
    "    | answer_prompt\n",
    "    | llm\n",
    "    | StrOutputParser()\n",
    ")\n",
    "\n",
    "chain.invoke({\"question\": \"List the species of trees that are present in San Francisco\"})"
   ]
  },
  {
   "cell_type": "code",
   "execution_count": null,
   "metadata": {},
   "outputs": [],
   "source": []
  }
 ],
 "metadata": {
  "kernelspec": {
   "display_name": "level1",
   "language": "python",
   "name": "python3"
  },
  "language_info": {
   "codemirror_mode": {
    "name": "ipython",
    "version": 3
   },
   "file_extension": ".py",
   "mimetype": "text/x-python",
   "name": "python",
   "nbconvert_exporter": "python",
   "pygments_lexer": "ipython3",
   "version": "3.11.11"
  }
 },
 "nbformat": 4,
 "nbformat_minor": 2
}
